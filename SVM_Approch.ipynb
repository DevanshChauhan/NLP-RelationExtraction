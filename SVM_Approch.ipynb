{
  "cells": [
    {
      "cell_type": "markdown",
      "metadata": {
        "id": "LlSNd5xCcmFq"
      },
      "source": [
        "\n",
        "This Jupyter Notebook contains the implementation of my initial model. If you wish to directly test my model by providing inputs, you can navigate to the final cells of this notebook. Below are the instructions on how to provide inputs:\n",
        "\n",
        "1. Click on the following SavedSVMResources  to download the saved model file named 'svm_model.pkl'.\n",
        "2. Additionally, download 'BioRed-vectors.kv' and 'tfidf_vectorizer.joblib' from the same link.\n",
        "3. Ensure that all necessary libraries are downloaded by executing the first cell.\n",
        "4. Also make sure to place the downloaded files in the same Path where the model is being executed.\n",
        "5. Execute the last cell, following which you can input custom biomedical data in the specified format.\n",
        "6. A sample custom input has already been provided to the model to obtain the prediction class."
      ]
    },
    {
      "cell_type": "markdown",
      "metadata": {
        "id": "oDwn4h0D0UzC"
      },
      "source": [
        "#### Installing all necessary libraries"
      ]
    },
    {
      "cell_type": "code",
      "execution_count": null,
      "metadata": {
        "colab": {
          "base_uri": "https://localhost:8080/"
        },
        "id": "0G3-9GVly4lL",
        "outputId": "b6f598a2-cfd5-4829-f93c-d79ac4bf0cdb"
      },
      "outputs": [
        {
          "name": "stdout",
          "output_type": "stream",
          "text": [
            "Requirement already satisfied: gensim in /usr/local/lib/python3.10/dist-packages (4.3.2)\n",
            "Requirement already satisfied: numpy in /usr/local/lib/python3.10/dist-packages (1.25.2)\n",
            "Requirement already satisfied: pandas in /usr/local/lib/python3.10/dist-packages (1.5.3)\n",
            "Requirement already satisfied: spacy in /usr/local/lib/python3.10/dist-packages (3.7.4)\n",
            "Requirement already satisfied: scikit-learn in /usr/local/lib/python3.10/dist-packages (1.2.2)\n",
            "Requirement already satisfied: joblib in /usr/local/lib/python3.10/dist-packages (1.3.2)\n",
            "Requirement already satisfied: seaborn in /usr/local/lib/python3.10/dist-packages (0.13.1)\n",
            "Requirement already satisfied: matplotlib in /usr/local/lib/python3.10/dist-packages (3.7.1)\n",
            "Requirement already satisfied: nltk in /usr/local/lib/python3.10/dist-packages (3.8.1)\n",
            "Requirement already satisfied: scipy>=1.7.0 in /usr/local/lib/python3.10/dist-packages (from gensim) (1.11.4)\n",
            "Requirement already satisfied: smart-open>=1.8.1 in /usr/local/lib/python3.10/dist-packages (from gensim) (6.4.0)\n",
            "Requirement already satisfied: python-dateutil>=2.8.1 in /usr/local/lib/python3.10/dist-packages (from pandas) (2.8.2)\n",
            "Requirement already satisfied: pytz>=2020.1 in /usr/local/lib/python3.10/dist-packages (from pandas) (2023.4)\n",
            "Requirement already satisfied: spacy-legacy<3.1.0,>=3.0.11 in /usr/local/lib/python3.10/dist-packages (from spacy) (3.0.12)\n",
            "Requirement already satisfied: spacy-loggers<2.0.0,>=1.0.0 in /usr/local/lib/python3.10/dist-packages (from spacy) (1.0.5)\n",
            "Requirement already satisfied: murmurhash<1.1.0,>=0.28.0 in /usr/local/lib/python3.10/dist-packages (from spacy) (1.0.10)\n",
            "Requirement already satisfied: cymem<2.1.0,>=2.0.2 in /usr/local/lib/python3.10/dist-packages (from spacy) (2.0.8)\n",
            "Requirement already satisfied: preshed<3.1.0,>=3.0.2 in /usr/local/lib/python3.10/dist-packages (from spacy) (3.0.9)\n",
            "Requirement already satisfied: thinc<8.3.0,>=8.2.2 in /usr/local/lib/python3.10/dist-packages (from spacy) (8.2.3)\n",
            "Requirement already satisfied: wasabi<1.2.0,>=0.9.1 in /usr/local/lib/python3.10/dist-packages (from spacy) (1.1.2)\n",
            "Requirement already satisfied: srsly<3.0.0,>=2.4.3 in /usr/local/lib/python3.10/dist-packages (from spacy) (2.4.8)\n",
            "Requirement already satisfied: catalogue<2.1.0,>=2.0.6 in /usr/local/lib/python3.10/dist-packages (from spacy) (2.0.10)\n",
            "Requirement already satisfied: weasel<0.4.0,>=0.1.0 in /usr/local/lib/python3.10/dist-packages (from spacy) (0.3.4)\n",
            "Requirement already satisfied: typer<0.10.0,>=0.3.0 in /usr/local/lib/python3.10/dist-packages (from spacy) (0.9.0)\n",
            "Requirement already satisfied: tqdm<5.0.0,>=4.38.0 in /usr/local/lib/python3.10/dist-packages (from spacy) (4.66.2)\n",
            "Requirement already satisfied: requests<3.0.0,>=2.13.0 in /usr/local/lib/python3.10/dist-packages (from spacy) (2.31.0)\n",
            "Requirement already satisfied: pydantic!=1.8,!=1.8.1,<3.0.0,>=1.7.4 in /usr/local/lib/python3.10/dist-packages (from spacy) (2.6.3)\n",
            "Requirement already satisfied: jinja2 in /usr/local/lib/python3.10/dist-packages (from spacy) (3.1.3)\n",
            "Requirement already satisfied: setuptools in /usr/local/lib/python3.10/dist-packages (from spacy) (67.7.2)\n",
            "Requirement already satisfied: packaging>=20.0 in /usr/local/lib/python3.10/dist-packages (from spacy) (23.2)\n",
            "Requirement already satisfied: langcodes<4.0.0,>=3.2.0 in /usr/local/lib/python3.10/dist-packages (from spacy) (3.3.0)\n",
            "Requirement already satisfied: threadpoolctl>=2.0.0 in /usr/local/lib/python3.10/dist-packages (from scikit-learn) (3.3.0)\n",
            "Requirement already satisfied: contourpy>=1.0.1 in /usr/local/lib/python3.10/dist-packages (from matplotlib) (1.2.0)\n",
            "Requirement already satisfied: cycler>=0.10 in /usr/local/lib/python3.10/dist-packages (from matplotlib) (0.12.1)\n",
            "Requirement already satisfied: fonttools>=4.22.0 in /usr/local/lib/python3.10/dist-packages (from matplotlib) (4.49.0)\n",
            "Requirement already satisfied: kiwisolver>=1.0.1 in /usr/local/lib/python3.10/dist-packages (from matplotlib) (1.4.5)\n",
            "Requirement already satisfied: pillow>=6.2.0 in /usr/local/lib/python3.10/dist-packages (from matplotlib) (9.4.0)\n",
            "Requirement already satisfied: pyparsing>=2.3.1 in /usr/local/lib/python3.10/dist-packages (from matplotlib) (3.1.1)\n",
            "Requirement already satisfied: click in /usr/local/lib/python3.10/dist-packages (from nltk) (8.1.7)\n",
            "Requirement already satisfied: regex>=2021.8.3 in /usr/local/lib/python3.10/dist-packages (from nltk) (2023.12.25)\n",
            "Requirement already satisfied: annotated-types>=0.4.0 in /usr/local/lib/python3.10/dist-packages (from pydantic!=1.8,!=1.8.1,<3.0.0,>=1.7.4->spacy) (0.6.0)\n",
            "Requirement already satisfied: pydantic-core==2.16.3 in /usr/local/lib/python3.10/dist-packages (from pydantic!=1.8,!=1.8.1,<3.0.0,>=1.7.4->spacy) (2.16.3)\n",
            "Requirement already satisfied: typing-extensions>=4.6.1 in /usr/local/lib/python3.10/dist-packages (from pydantic!=1.8,!=1.8.1,<3.0.0,>=1.7.4->spacy) (4.10.0)\n",
            "Requirement already satisfied: six>=1.5 in /usr/local/lib/python3.10/dist-packages (from python-dateutil>=2.8.1->pandas) (1.16.0)\n",
            "Requirement already satisfied: charset-normalizer<4,>=2 in /usr/local/lib/python3.10/dist-packages (from requests<3.0.0,>=2.13.0->spacy) (3.3.2)\n",
            "Requirement already satisfied: idna<4,>=2.5 in /usr/local/lib/python3.10/dist-packages (from requests<3.0.0,>=2.13.0->spacy) (3.6)\n",
            "Requirement already satisfied: urllib3<3,>=1.21.1 in /usr/local/lib/python3.10/dist-packages (from requests<3.0.0,>=2.13.0->spacy) (2.0.7)\n",
            "Requirement already satisfied: certifi>=2017.4.17 in /usr/local/lib/python3.10/dist-packages (from requests<3.0.0,>=2.13.0->spacy) (2024.2.2)\n",
            "Requirement already satisfied: blis<0.8.0,>=0.7.8 in /usr/local/lib/python3.10/dist-packages (from thinc<8.3.0,>=8.2.2->spacy) (0.7.11)\n",
            "Requirement already satisfied: confection<1.0.0,>=0.0.1 in /usr/local/lib/python3.10/dist-packages (from thinc<8.3.0,>=8.2.2->spacy) (0.1.4)\n",
            "Requirement already satisfied: cloudpathlib<0.17.0,>=0.7.0 in /usr/local/lib/python3.10/dist-packages (from weasel<0.4.0,>=0.1.0->spacy) (0.16.0)\n",
            "Requirement already satisfied: MarkupSafe>=2.0 in /usr/local/lib/python3.10/dist-packages (from jinja2->spacy) (2.1.5)\n",
            "Collecting en-core-web-sm==3.7.1\n",
            "  Downloading https://github.com/explosion/spacy-models/releases/download/en_core_web_sm-3.7.1/en_core_web_sm-3.7.1-py3-none-any.whl (12.8 MB)\n",
            "\u001b[2K     \u001b[90m━━━━━━━━━━━━━━━━━━━━━━━━━━━━━━━━━━━━━━━━\u001b[0m \u001b[32m12.8/12.8 MB\u001b[0m \u001b[31m27.7 MB/s\u001b[0m eta \u001b[36m0:00:00\u001b[0m\n",
            "\u001b[?25hRequirement already satisfied: spacy<3.8.0,>=3.7.2 in /usr/local/lib/python3.10/dist-packages (from en-core-web-sm==3.7.1) (3.7.4)\n",
            "Requirement already satisfied: spacy-legacy<3.1.0,>=3.0.11 in /usr/local/lib/python3.10/dist-packages (from spacy<3.8.0,>=3.7.2->en-core-web-sm==3.7.1) (3.0.12)\n",
            "Requirement already satisfied: spacy-loggers<2.0.0,>=1.0.0 in /usr/local/lib/python3.10/dist-packages (from spacy<3.8.0,>=3.7.2->en-core-web-sm==3.7.1) (1.0.5)\n",
            "Requirement already satisfied: murmurhash<1.1.0,>=0.28.0 in /usr/local/lib/python3.10/dist-packages (from spacy<3.8.0,>=3.7.2->en-core-web-sm==3.7.1) (1.0.10)\n",
            "Requirement already satisfied: cymem<2.1.0,>=2.0.2 in /usr/local/lib/python3.10/dist-packages (from spacy<3.8.0,>=3.7.2->en-core-web-sm==3.7.1) (2.0.8)\n",
            "Requirement already satisfied: preshed<3.1.0,>=3.0.2 in /usr/local/lib/python3.10/dist-packages (from spacy<3.8.0,>=3.7.2->en-core-web-sm==3.7.1) (3.0.9)\n",
            "Requirement already satisfied: thinc<8.3.0,>=8.2.2 in /usr/local/lib/python3.10/dist-packages (from spacy<3.8.0,>=3.7.2->en-core-web-sm==3.7.1) (8.2.3)\n",
            "Requirement already satisfied: wasabi<1.2.0,>=0.9.1 in /usr/local/lib/python3.10/dist-packages (from spacy<3.8.0,>=3.7.2->en-core-web-sm==3.7.1) (1.1.2)\n",
            "Requirement already satisfied: srsly<3.0.0,>=2.4.3 in /usr/local/lib/python3.10/dist-packages (from spacy<3.8.0,>=3.7.2->en-core-web-sm==3.7.1) (2.4.8)\n",
            "Requirement already satisfied: catalogue<2.1.0,>=2.0.6 in /usr/local/lib/python3.10/dist-packages (from spacy<3.8.0,>=3.7.2->en-core-web-sm==3.7.1) (2.0.10)\n",
            "Requirement already satisfied: weasel<0.4.0,>=0.1.0 in /usr/local/lib/python3.10/dist-packages (from spacy<3.8.0,>=3.7.2->en-core-web-sm==3.7.1) (0.3.4)\n",
            "Requirement already satisfied: typer<0.10.0,>=0.3.0 in /usr/local/lib/python3.10/dist-packages (from spacy<3.8.0,>=3.7.2->en-core-web-sm==3.7.1) (0.9.0)\n",
            "Requirement already satisfied: smart-open<7.0.0,>=5.2.1 in /usr/local/lib/python3.10/dist-packages (from spacy<3.8.0,>=3.7.2->en-core-web-sm==3.7.1) (6.4.0)\n",
            "Requirement already satisfied: tqdm<5.0.0,>=4.38.0 in /usr/local/lib/python3.10/dist-packages (from spacy<3.8.0,>=3.7.2->en-core-web-sm==3.7.1) (4.66.2)\n",
            "Requirement already satisfied: requests<3.0.0,>=2.13.0 in /usr/local/lib/python3.10/dist-packages (from spacy<3.8.0,>=3.7.2->en-core-web-sm==3.7.1) (2.31.0)\n",
            "Requirement already satisfied: pydantic!=1.8,!=1.8.1,<3.0.0,>=1.7.4 in /usr/local/lib/python3.10/dist-packages (from spacy<3.8.0,>=3.7.2->en-core-web-sm==3.7.1) (2.6.3)\n",
            "Requirement already satisfied: jinja2 in /usr/local/lib/python3.10/dist-packages (from spacy<3.8.0,>=3.7.2->en-core-web-sm==3.7.1) (3.1.3)\n",
            "Requirement already satisfied: setuptools in /usr/local/lib/python3.10/dist-packages (from spacy<3.8.0,>=3.7.2->en-core-web-sm==3.7.1) (67.7.2)\n",
            "Requirement already satisfied: packaging>=20.0 in /usr/local/lib/python3.10/dist-packages (from spacy<3.8.0,>=3.7.2->en-core-web-sm==3.7.1) (23.2)\n",
            "Requirement already satisfied: langcodes<4.0.0,>=3.2.0 in /usr/local/lib/python3.10/dist-packages (from spacy<3.8.0,>=3.7.2->en-core-web-sm==3.7.1) (3.3.0)\n",
            "Requirement already satisfied: numpy>=1.19.0 in /usr/local/lib/python3.10/dist-packages (from spacy<3.8.0,>=3.7.2->en-core-web-sm==3.7.1) (1.25.2)\n",
            "Requirement already satisfied: annotated-types>=0.4.0 in /usr/local/lib/python3.10/dist-packages (from pydantic!=1.8,!=1.8.1,<3.0.0,>=1.7.4->spacy<3.8.0,>=3.7.2->en-core-web-sm==3.7.1) (0.6.0)\n",
            "Requirement already satisfied: pydantic-core==2.16.3 in /usr/local/lib/python3.10/dist-packages (from pydantic!=1.8,!=1.8.1,<3.0.0,>=1.7.4->spacy<3.8.0,>=3.7.2->en-core-web-sm==3.7.1) (2.16.3)\n",
            "Requirement already satisfied: typing-extensions>=4.6.1 in /usr/local/lib/python3.10/dist-packages (from pydantic!=1.8,!=1.8.1,<3.0.0,>=1.7.4->spacy<3.8.0,>=3.7.2->en-core-web-sm==3.7.1) (4.10.0)\n",
            "Requirement already satisfied: charset-normalizer<4,>=2 in /usr/local/lib/python3.10/dist-packages (from requests<3.0.0,>=2.13.0->spacy<3.8.0,>=3.7.2->en-core-web-sm==3.7.1) (3.3.2)\n",
            "Requirement already satisfied: idna<4,>=2.5 in /usr/local/lib/python3.10/dist-packages (from requests<3.0.0,>=2.13.0->spacy<3.8.0,>=3.7.2->en-core-web-sm==3.7.1) (3.6)\n",
            "Requirement already satisfied: urllib3<3,>=1.21.1 in /usr/local/lib/python3.10/dist-packages (from requests<3.0.0,>=2.13.0->spacy<3.8.0,>=3.7.2->en-core-web-sm==3.7.1) (2.0.7)\n",
            "Requirement already satisfied: certifi>=2017.4.17 in /usr/local/lib/python3.10/dist-packages (from requests<3.0.0,>=2.13.0->spacy<3.8.0,>=3.7.2->en-core-web-sm==3.7.1) (2024.2.2)\n",
            "Requirement already satisfied: blis<0.8.0,>=0.7.8 in /usr/local/lib/python3.10/dist-packages (from thinc<8.3.0,>=8.2.2->spacy<3.8.0,>=3.7.2->en-core-web-sm==3.7.1) (0.7.11)\n",
            "Requirement already satisfied: confection<1.0.0,>=0.0.1 in /usr/local/lib/python3.10/dist-packages (from thinc<8.3.0,>=8.2.2->spacy<3.8.0,>=3.7.2->en-core-web-sm==3.7.1) (0.1.4)\n",
            "Requirement already satisfied: click<9.0.0,>=7.1.1 in /usr/local/lib/python3.10/dist-packages (from typer<0.10.0,>=0.3.0->spacy<3.8.0,>=3.7.2->en-core-web-sm==3.7.1) (8.1.7)\n",
            "Requirement already satisfied: cloudpathlib<0.17.0,>=0.7.0 in /usr/local/lib/python3.10/dist-packages (from weasel<0.4.0,>=0.1.0->spacy<3.8.0,>=3.7.2->en-core-web-sm==3.7.1) (0.16.0)\n",
            "Requirement already satisfied: MarkupSafe>=2.0 in /usr/local/lib/python3.10/dist-packages (from jinja2->spacy<3.8.0,>=3.7.2->en-core-web-sm==3.7.1) (2.1.5)\n",
            "\u001b[38;5;2m✔ Download and installation successful\u001b[0m\n",
            "You can now load the package via spacy.load('en_core_web_sm')\n",
            "\u001b[38;5;3m⚠ Restart to reload dependencies\u001b[0m\n",
            "If you are in a Jupyter or Colab notebook, you may need to restart Python in\n",
            "order to load all the package's dependencies. You can do this by selecting the\n",
            "'Restart kernel' or 'Restart runtime' option.\n"
          ]
        }
      ],
      "source": [
        "!pip3 install gensim numpy pandas spacy scikit-learn joblib seaborn matplotlib nltk\n",
        "!python3 -m spacy download en_core_web_sm"
      ]
    },
    {
      "cell_type": "code",
      "execution_count": null,
      "metadata": {
        "id": "5CsqvIsYgKqG"
      },
      "outputs": [],
      "source": [
        "# Importing necessary libraries\n",
        "import json\n",
        "import os"
      ]
    },
    {
      "cell_type": "markdown",
      "metadata": {
        "id": "Z1Kl2edzhvfM"
      },
      "source": [
        "### Data Collection:\n",
        "We downloaded the Biored dataset zip file from https://ftp.ncbi.nlm.nih.gov/pub/lu/BioRED/, which was in JSON format, and commenced with data preprocessing using Python.\n"
      ]
    },
    {
      "cell_type": "markdown",
      "metadata": {
        "id": "Qznw_nsObPC2"
      },
      "source": [
        "##Relevant files and resources for executing this model\n",
        "Link : https://drive.google.com/drive/folders/1xA57_2PfXqoHG8teUAlSSMMpDVbZKkIJ?usp=drive_link"
      ]
    },
    {
      "cell_type": "markdown",
      "metadata": {
        "id": "7B4PET3ZuIY_"
      },
      "source": [
        "### Document Conversion to Simplified JSON Format\n",
        "\n",
        "The following function, `convert_documents`, is designed to transform the json documents into a specifically structured JSON format. The conversion process is crucial for preparing the data for downstream tasks such as relation extraction or entity recognition. This function takes 'documents', which is expected to be a dictionary that contains a list of document data under the key \"documents\".\n",
        "\n",
        "Each document is processed to extract 'relations' and 'passages'. The aim is to construct a JSON object for each passage that captures:\n",
        "\n",
        "- The full sentence that the passage text represents.\n",
        "- Entities involved in the relations.\n",
        "- Types of these entities.\n",
        "- Start and end positions of these entities within the sentence.\n",
        "- The relation type between the entities.\n",
        "- The sequence of words between entities and the number of words in this sequence.\n",
        "- A calculated 'proximity distance' between entities, which could be essential for certain types of analysis.\n",
        "\n",
        "This structured format is instrumental for subsequent machine learning tasks, where specific information about entity relations is necessary for training and model evaluation. After processing all documents, the function returns a list of these JSON objects, ready for further processing.\n"
      ]
    },
    {
      "cell_type": "code",
      "execution_count": null,
      "metadata": {
        "colab": {
          "base_uri": "https://localhost:8080/"
        },
        "id": "nbie5mtVxc2M",
        "outputId": "b14e9a83-98b2-4823-acaa-935571f57c54"
      },
      "outputs": [
        {
          "name": "stdout",
          "output_type": "stream",
          "text": [
            "Mounted at /gdrive\n",
            "/gdrive/MyDrive/BioRed_TextMining_SVM\n",
            "BioRed-vectors.kv  Test.BioC.JSON  tfidf_vectorizer.joblib  train.JSON\n",
            "svm_model.pkl\t   test.JSON\t   Train.BioC.JSON\n"
          ]
        }
      ],
      "source": [
        "# Run this cell only if you are using Google Colab.\n",
        "#If you want to run it in local please download the model from the zip file or google drive link provided and change path accordingly.\n",
        "from google.colab import drive\n",
        "drive.mount('/gdrive')\n",
        "%cd /gdrive/MyDrive/BioRed_TextMining_SVM\n",
        "!ls"
      ]
    },
    {
      "cell_type": "code",
      "execution_count": null,
      "metadata": {
        "id": "flI31lNCzL4-"
      },
      "outputs": [],
      "source": [
        "def convert_documents(documents):\n",
        "    JSON = []\n",
        "    for doc in documents[\"documents\"]:\n",
        "        for relation in doc[\"relations\"]:\n",
        "            for passage in doc[\"passages\"]:\n",
        "                obj = {}\n",
        "                obj[\"sentence\"] = \"\"\n",
        "                annotation1 = next(\n",
        "                    (annotation for annotation in passage['annotations'] if annotation['infons']['identifier'] == relation[\"infons\"][\"entity1\"]), None)\n",
        "                annotation2 = next(\n",
        "                    (annotation for annotation in passage['annotations'] if annotation['infons']['identifier'] == relation[\"infons\"][\"entity2\"]), None)\n",
        "                if annotation1 and annotation2:\n",
        "                    obj[\"sentence\"] += str(passage['text'] + ' ')\n",
        "\n",
        "            if annotation1 and annotation2:\n",
        "                # Extract information for the first entity.\n",
        "                obj[\"e1\"] = annotation1[\"text\"]\n",
        "                obj[\"entity1_type\"] = annotation1[\"infons\"][\"type\"]\n",
        "                obj[\"e1strt\"] = obj[\"sentence\"].find(annotation1[\"text\"])\n",
        "                obj[\"e1end\"] = obj[\"e1strt\"] + len(obj[\"e1\"]) - 1\n",
        "                # Extract information for the second entity.\n",
        "                obj[\"e2\"] = annotation2['text']\n",
        "                obj[\"entity2_type\"] = annotation2[\"infons\"][\"type\"]\n",
        "                obj[\"e2strt\"] = obj[\"sentence\"].find(annotation2[\"text\"])\n",
        "                obj[\"e2end\"] = obj[\"e2strt\"] + len(obj[\"e2\"]) - 1\n",
        "                # Extract the relationship information.\n",
        "                obj[\"relation\"] = relation[\"infons\"][\"type\"]\n",
        "                 # Extract the sequence of words between the two entities.\n",
        "                obj[\"word_sequence\"] = obj[\"sentence\"][obj[\"e1end\"]:obj[\"e2strt\"]].strip()\n",
        "                # Calculate the number of words between the two entities.\n",
        "                obj[\"no_of_words_between_entites\"] = len(obj[\"word_sequence\"].split())\n",
        "                # Calculate the proximity distance between the two entities.\n",
        "                obj[\"proximty_distance\"] = len(obj[\"word_sequence\"])\n",
        "                JSON.append(obj)\n",
        "    return JSON"
      ]
    },
    {
      "cell_type": "code",
      "execution_count": null,
      "metadata": {
        "id": "ApwpZu62zZf1"
      },
      "outputs": [],
      "source": [
        "# Open the source JSON file for reading.\n",
        "with open('Test.BioC.JSON', 'r') as file:\n",
        "    data = json.load(file)\n",
        "output_data = convert_documents(data)"
      ]
    },
    {
      "cell_type": "code",
      "execution_count": null,
      "metadata": {
        "id": "X-7x5se8zbnI"
      },
      "outputs": [],
      "source": [
        "# Open a new JSON file for writing the output data.\n",
        "with open('test.JSON', 'w') as output_file:\n",
        "    json.dump(output_data, output_file, indent=4)"
      ]
    },
    {
      "cell_type": "markdown",
      "metadata": {
        "id": "JXn0IkwSu498"
      },
      "source": [
        "#### Importing Libraries and Packages"
      ]
    },
    {
      "cell_type": "code",
      "execution_count": null,
      "metadata": {
        "colab": {
          "base_uri": "https://localhost:8080/"
        },
        "id": "5jXU86Ty33yH",
        "outputId": "52ee154c-8ba3-4c00-d0fb-4fe12a7039f0"
      },
      "outputs": [
        {
          "name": "stderr",
          "output_type": "stream",
          "text": [
            "[nltk_data] Downloading package punkt to /root/nltk_data...\n",
            "[nltk_data]   Unzipping tokenizers/punkt.zip.\n",
            "[nltk_data] Downloading package averaged_perceptron_tagger to\n",
            "[nltk_data]     /root/nltk_data...\n",
            "[nltk_data]   Unzipping taggers/averaged_perceptron_tagger.zip.\n"
          ]
        }
      ],
      "source": [
        "import json\n",
        "import pandas as pd\n",
        "import nltk\n",
        "import spacy\n",
        "\n",
        "# Sklearn modules for machine learning tasks.\n",
        "from sklearn import svm\n",
        "from sklearn.preprocessing import LabelEncoder\n",
        "from sklearn.feature_extraction.text import TfidfVectorizer\n",
        "from sklearn.pipeline import make_pipeline\n",
        "from sklearn.metrics import accuracy_score, f1_score, precision_score, recall_score, classification_report, confusion_matrix\n",
        "\n",
        "# NLTK downloads for specific tokenizer and tagger\n",
        "nltk.download('punkt')\n",
        "nltk.download('averaged_perceptron_tagger')\n",
        "\n",
        "import numpy as np\n",
        "\n",
        "from gensim.models import Word2Vec\n",
        "\n",
        "import matplotlib.pyplot as plt\n",
        "import seaborn as sns"
      ]
    },
    {
      "cell_type": "markdown",
      "metadata": {
        "id": "ISqjgYO7u-8X"
      },
      "source": [
        "#### Data Loading and Text Preprocessing Functions"
      ]
    },
    {
      "cell_type": "code",
      "execution_count": null,
      "metadata": {
        "id": "r7WFzv-p34g-"
      },
      "outputs": [],
      "source": [
        "def load_data(file_path):\n",
        "    with open(file_path, 'r') as f:\n",
        "        data = json.load(f)\n",
        "    df = pd.DataFrame(data)\n",
        "    return df"
      ]
    },
    {
      "cell_type": "code",
      "execution_count": null,
      "metadata": {
        "id": "FFuvhn5E4r4c"
      },
      "outputs": [],
      "source": [
        "# Load the small English model for spaCy\n",
        "spacy_nlp = spacy.load(\"en_core_web_sm\")"
      ]
    },
    {
      "cell_type": "code",
      "execution_count": null,
      "metadata": {
        "id": "P6zX8FMr4o5T"
      },
      "outputs": [],
      "source": [
        "def tokenize_text(text):\n",
        "    sentence = spacy_nlp(text)\n",
        "    # Tokenize the text into individual words using NLTK.\n",
        "    return nltk.word_tokenize(text)"
      ]
    },
    {
      "cell_type": "code",
      "execution_count": null,
      "metadata": {
        "id": "D_7mS8st4t9U"
      },
      "outputs": [],
      "source": [
        "# Load the Dataset\n",
        "bio_red_data = load_data('train.JSON')\n",
        "bio_red_test_data = load_data('test.JSON')"
      ]
    },
    {
      "cell_type": "code",
      "execution_count": null,
      "metadata": {
        "colab": {
          "base_uri": "https://localhost:8080/",
          "height": 590
        },
        "id": "I-Ntc56SuQ_T",
        "outputId": "910afbf6-0910-4ce4-e8f0-7047209b6505",
        "scrolled": false
      },
      "outputs": [
        {
          "data": {
            "application/vnd.google.colaboratory.intrinsic+json": {
              "summary": "{\n  \"name\": \"bio_red_data\",\n  \"rows\": 3811,\n  \"fields\": [\n    {\n      \"column\": \"sentence\",\n      \"properties\": {\n        \"dtype\": \"category\",\n        \"num_unique_values\": 394,\n        \"samples\": [\n          \"Radiation modulates both tumor cells and immune cells in the tumor microenvironment to exert its anti-tumor activity; however, the molecular connection between tumor cells and immune cells that mediates radiation-exerted tumor suppression activity in the tumor microenvironment is largely unknown. We report here that radiation induces rapid activation of the p65/p50 and p50/p50 NF-kB complexes in human soft tissue sarcoma (STS) cells. Radiation-activated p65/p50 and p50/p50 bind to the TNFa promoter to activate its transcription in STS cells. Radiation-induced TNFa induces tumor cell death in an autocrine manner. A sublethal dose of Smac mimetic BV6 induces cIAP1 and cIAP2 degradation to increase tumor cell sensitivity to radiation-induced cell death in vitro and to enhance radiation-mediated suppression of STS xenografts in vivo. Inhibition of caspases, RIP1, or RIP3 blocks radiation/TNFa-induced cell death, whereas inhibition of RIP1 blocks TNFa-induced caspase activation, suggesting that caspases and RIP1 act sequentially to mediate the non-compensatory cell death pathways. Furthermore, we determined in a syngeneic sarcoma mouse model that radiation up-regulates IRF3, IFNb, and the T cell chemokines CCL2 and CCL5 in the tumor microenvironment, which are associated with activation and increased infiltration of Th1/Tc1 T cells in the tumor microenvironment. Moreover, tumor-infiltrating T cells are in their active form since both the perforin and FasL pathways are activated in irradiated tumor tissues. Consequently, combined BV6 and radiation completely suppressed tumor growth in vivo. Therefore, radiation-induced NF-kB functions as a molecular link between tumor cells and immune cells in the tumor microenvironment for radiation-mediated tumor suppression. \",\n          \"Prostate cancer is the most common cancer in men in developed countries, and is a target for risk reduction strategies. The effects of alcohol consumption on prostate cancer incidence and survival remain unclear, potentially due to methodological limitations of observational studies. In this study, we investigated the associations of genetic variants in alcohol-metabolising genes with prostate cancer incidence and survival. We analysed data from 23,868 men with prostate cancer and 23,051 controls from 25 studies within the international PRACTICAL Consortium. Study-specific associations of 68 single nucleotide polymorphisms (SNPs) in 8 alcohol-metabolising genes (Alcohol Dehydrogenases (ADHs) and Aldehyde Dehydrogenases (ALDHs)) with prostate cancer diagnosis and prostate cancer-specific mortality, by grade, were assessed using logistic and Cox regression models, respectively. The data across the 25 studies were meta-analysed using fixed-effect and random-effects models. We found little evidence that variants in alcohol metabolising genes were associated with prostate cancer diagnosis. Four variants in two genes exceeded the multiple testing threshold for associations with prostate cancer mortality in fixed-effect meta-analyses. SNPs within ALDH1A2 associated with prostate cancer mortality were rs1441817 (fixed effects hazard ratio, HRfixed  = 0.78; 95% confidence interval (95%CI):0.66,0.91; p values = 0.002); rs12910509, HRfixed  = 0.76; 95%CI:0.64,0.91; p values = 0.003); and rs8041922 (HRfixed  = 0.76; 95%CI:0.64,0.91; p values = 0.002). These SNPs were in linkage disequilibrium with each other. In ALDH1B1, rs10973794 (HRfixed  = 1.43; 95%CI:1.14,1.79; p values = 0.002) was associated with prostate cancer mortality in men with low-grade prostate cancer. These results suggest that alcohol consumption is unlikely to affect prostate cancer incidence, but it may influence disease progression. \",\n          \"Recent studies found that TIPE2 was involved in cancer development. However, little is known about TIPE2 in lung cancer. Our study aims to clarify the role of TIPE2 in lung carcinogenesis. We examined the expression of TIPE2 in lung squamous cancer (LSC), small cell lung cancer and lung adenocarcinoma (AdC) tissues and found that TIPE2 expression was lost in small cell lung cancer, compared with adjacent non-tumor tissues. Overexpression of TIPE2 significantly inhibited the growth of lung cancer cell H446 in vitro and even suppressed tumor formation in vivo. Flow cytometry analysis found TIPE2 overexpression promoted apoptosis of H446. In TIPE2 over-expression cells, caspase-3, caspase-9, and Bax were significantly up-regulated while Bcl-2 was down-regulated. Moreover, coincident results were shown by immunohistochemistry in tumors from nude mice. TIPE2 inhibited the phosphorylation of Akt, while promoting the phosphorylation of P38, but had no effect on IkBa and ERK pathway. Taken together, TIPE2 promoted lung cancer cell apoptosis through affecting apoptosis-related molecules caspase-3, caspase-9, Bcl-2 and Bax, possibly via regulating P38 and Akt pathways, indicating that TIPE2 might be a novel marker for lung cancer diagnosis and therapy. \"\n        ],\n        \"semantic_type\": \"\",\n        \"description\": \"\"\n      }\n    },\n    {\n      \"column\": \"e1\",\n      \"properties\": {\n        \"dtype\": \"category\",\n        \"num_unique_values\": 1463,\n        \"samples\": [\n          \"Alpers syndrome\",\n          \"tamoxifen\",\n          \"optineurin\"\n        ],\n        \"semantic_type\": \"\",\n        \"description\": \"\"\n      }\n    },\n    {\n      \"column\": \"entity1_type\",\n      \"properties\": {\n        \"dtype\": \"category\",\n        \"num_unique_values\": 4,\n        \"samples\": [\n          \"ChemicalEntity\",\n          \"SequenceVariant\",\n          \"GeneOrGeneProduct\"\n        ],\n        \"semantic_type\": \"\",\n        \"description\": \"\"\n      }\n    },\n    {\n      \"column\": \"e1strt\",\n      \"properties\": {\n        \"dtype\": \"number\",\n        \"std\": 400,\n        \"min\": 0,\n        \"max\": 2393,\n        \"num_unique_values\": 852,\n        \"samples\": [\n          422,\n          691,\n          920\n        ],\n        \"semantic_type\": \"\",\n        \"description\": \"\"\n      }\n    },\n    {\n      \"column\": \"e1end\",\n      \"properties\": {\n        \"dtype\": \"number\",\n        \"std\": 399,\n        \"min\": 2,\n        \"max\": 2403,\n        \"num_unique_values\": 896,\n        \"samples\": [\n          1082,\n          898,\n          788\n        ],\n        \"semantic_type\": \"\",\n        \"description\": \"\"\n      }\n    },\n    {\n      \"column\": \"e2\",\n      \"properties\": {\n        \"dtype\": \"category\",\n        \"num_unique_values\": 1756,\n        \"samples\": [\n          \"lamotrigine\",\n          \"levamisole\",\n          \"colorectal cancer\"\n        ],\n        \"semantic_type\": \"\",\n        \"description\": \"\"\n      }\n    },\n    {\n      \"column\": \"entity2_type\",\n      \"properties\": {\n        \"dtype\": \"category\",\n        \"num_unique_values\": 4,\n        \"samples\": [\n          \"GeneOrGeneProduct\",\n          \"SequenceVariant\",\n          \"DiseaseOrPhenotypicFeature\"\n        ],\n        \"semantic_type\": \"\",\n        \"description\": \"\"\n      }\n    },\n    {\n      \"column\": \"e2strt\",\n      \"properties\": {\n        \"dtype\": \"number\",\n        \"std\": 443,\n        \"min\": 0,\n        \"max\": 2538,\n        \"num_unique_values\": 1086,\n        \"samples\": [\n          1666,\n          794,\n          433\n        ],\n        \"semantic_type\": \"\",\n        \"description\": \"\"\n      }\n    },\n    {\n      \"column\": \"e2end\",\n      \"properties\": {\n        \"dtype\": \"number\",\n        \"std\": 442,\n        \"min\": 3,\n        \"max\": 2544,\n        \"num_unique_values\": 1075,\n        \"samples\": [\n          456,\n          1193,\n          1083\n        ],\n        \"semantic_type\": \"\",\n        \"description\": \"\"\n      }\n    },\n    {\n      \"column\": \"relation\",\n      \"properties\": {\n        \"dtype\": \"category\",\n        \"num_unique_values\": 8,\n        \"samples\": [\n          \"Positive_Correlation\",\n          \"Conversion\",\n          \"Association\"\n        ],\n        \"semantic_type\": \"\",\n        \"description\": \"\"\n      }\n    },\n    {\n      \"column\": \"word_sequence\",\n      \"properties\": {\n        \"dtype\": \"string\",\n        \"num_unique_values\": 2457,\n        \"samples\": [\n          \"y mediators of cirrhotic patients with and without HCC. METHODS: Serum samples were collected from cirrhotic potential liver transplant patients (LTx) with (n=61) and without HCC (n=78) as well as from healthy controls (HCs; n=39). Serum concentrations of CRP, neopterin and IL-6 as markers of inflammation and thrombopoietin (TPO), GCSF, FGF basic and VEGF, HMGB1, CK-18 (M65) and CK18 fragment (M30) and a panel of proinflammatory chemokines (CCL2, CCL3, CCL4, CCL5, CXCL5 and\",\n          \"a characterized by severe short stature and a unique constellation of radiographic findings. Homozygosity for a haplotype that was identical by descent between two of the affected individuals identified a locus for the disease gene within a 17.4 Mb interval on chromosome 15, a region containing 296 genes. These genes were assessed and ranked by cartilage selectivity with whole-genome microarray data, revealing only two genes, encoding aggrecan and chondroitin sulfate proteoglycan 4, that were selectively expressed in cartilage. Sequence analysis of aggrecan complementary DNA from an affected individual revealed homozygosity for a missense mutation (\",\n          \"n (Hp) 2-2 genotype are at increased risk of\"\n        ],\n        \"semantic_type\": \"\",\n        \"description\": \"\"\n      }\n    },\n    {\n      \"column\": \"no_of_words_between_entites\",\n      \"properties\": {\n        \"dtype\": \"number\",\n        \"std\": 55,\n        \"min\": 0,\n        \"max\": 403,\n        \"num_unique_values\": 241,\n        \"samples\": [\n          65,\n          161,\n          258\n        ],\n        \"semantic_type\": \"\",\n        \"description\": \"\"\n      }\n    },\n    {\n      \"column\": \"proximty_distance\",\n      \"properties\": {\n        \"dtype\": \"number\",\n        \"std\": 385,\n        \"min\": 0,\n        \"max\": 2360,\n        \"num_unique_values\": 1025,\n        \"samples\": [\n          914,\n          1127,\n          129\n        ],\n        \"semantic_type\": \"\",\n        \"description\": \"\"\n      }\n    }\n  ]\n}",
              "type": "dataframe",
              "variable_name": "bio_red_data"
            },
            "text/html": [
              "\n",
              "  <div id=\"df-0c8f339a-9017-4432-8f09-44a89fec2cdc\" class=\"colab-df-container\">\n",
              "    <div>\n",
              "<style scoped>\n",
              "    .dataframe tbody tr th:only-of-type {\n",
              "        vertical-align: middle;\n",
              "    }\n",
              "\n",
              "    .dataframe tbody tr th {\n",
              "        vertical-align: top;\n",
              "    }\n",
              "\n",
              "    .dataframe thead th {\n",
              "        text-align: right;\n",
              "    }\n",
              "</style>\n",
              "<table border=\"1\" class=\"dataframe\">\n",
              "  <thead>\n",
              "    <tr style=\"text-align: right;\">\n",
              "      <th></th>\n",
              "      <th>sentence</th>\n",
              "      <th>e1</th>\n",
              "      <th>entity1_type</th>\n",
              "      <th>e1strt</th>\n",
              "      <th>e1end</th>\n",
              "      <th>e2</th>\n",
              "      <th>entity2_type</th>\n",
              "      <th>e2strt</th>\n",
              "      <th>e2end</th>\n",
              "      <th>relation</th>\n",
              "      <th>word_sequence</th>\n",
              "      <th>no_of_words_between_entites</th>\n",
              "      <th>proximty_distance</th>\n",
              "    </tr>\n",
              "  </thead>\n",
              "  <tbody>\n",
              "    <tr>\n",
              "      <th>0</th>\n",
              "      <td>The transcription factor hepatocyte nuclear fa...</td>\n",
              "      <td>hepatocyte nuclear factor (HNF)-6</td>\n",
              "      <td>GeneOrGeneProduct</td>\n",
              "      <td>25</td>\n",
              "      <td>57</td>\n",
              "      <td>maturity-onset diabetes</td>\n",
              "      <td>DiseaseOrPhenotypicFeature</td>\n",
              "      <td>133</td>\n",
              "      <td>155</td>\n",
              "      <td>Association</td>\n",
              "      <td>6 is an upstream regulator of several genes in...</td>\n",
              "      <td>13</td>\n",
              "      <td>75</td>\n",
              "    </tr>\n",
              "    <tr>\n",
              "      <th>1</th>\n",
              "      <td>The transcription factor hepatocyte nuclear fa...</td>\n",
              "      <td>glucose</td>\n",
              "      <td>ChemicalEntity</td>\n",
              "      <td>359</td>\n",
              "      <td>365</td>\n",
              "      <td>insulin</td>\n",
              "      <td>GeneOrGeneProduct</td>\n",
              "      <td>284</td>\n",
              "      <td>290</td>\n",
              "      <td>Positive_Correlation</td>\n",
              "      <td></td>\n",
              "      <td>0</td>\n",
              "      <td>0</td>\n",
              "    </tr>\n",
              "    <tr>\n",
              "      <th>2</th>\n",
              "      <td>The transcription factor hepatocyte nuclear fa...</td>\n",
              "      <td>glucose</td>\n",
              "      <td>ChemicalEntity</td>\n",
              "      <td>359</td>\n",
              "      <td>365</td>\n",
              "      <td>maturity-onset diabetes</td>\n",
              "      <td>DiseaseOrPhenotypicFeature</td>\n",
              "      <td>133</td>\n",
              "      <td>155</td>\n",
              "      <td>Association</td>\n",
              "      <td></td>\n",
              "      <td>0</td>\n",
              "      <td>0</td>\n",
              "    </tr>\n",
              "    <tr>\n",
              "      <th>3</th>\n",
              "      <td>We have identified a type II Ca2+-dependent le...</td>\n",
              "      <td>type II Ca2+-dependent lectin</td>\n",
              "      <td>GeneOrGeneProduct</td>\n",
              "      <td>21</td>\n",
              "      <td>49</td>\n",
              "      <td>mannose</td>\n",
              "      <td>ChemicalEntity</td>\n",
              "      <td>62</td>\n",
              "      <td>68</td>\n",
              "      <td>Bind</td>\n",
              "      <td>n displaying</td>\n",
              "      <td>2</td>\n",
              "      <td>12</td>\n",
              "    </tr>\n",
              "    <tr>\n",
              "      <th>4</th>\n",
              "      <td>We have undertaken a hospital-based study, to ...</td>\n",
              "      <td>breast cancers</td>\n",
              "      <td>DiseaseOrPhenotypicFeature</td>\n",
              "      <td>476</td>\n",
              "      <td>489</td>\n",
              "      <td>5382insC</td>\n",
              "      <td>SequenceVariant</td>\n",
              "      <td>1387</td>\n",
              "      <td>1394</td>\n",
              "      <td>Positive_Correlation</td>\n",
              "      <td>s only. Genomic DNA was prepared from the peri...</td>\n",
              "      <td>149</td>\n",
              "      <td>897</td>\n",
              "    </tr>\n",
              "  </tbody>\n",
              "</table>\n",
              "</div>\n",
              "    <div class=\"colab-df-buttons\">\n",
              "\n",
              "  <div class=\"colab-df-container\">\n",
              "    <button class=\"colab-df-convert\" onclick=\"convertToInteractive('df-0c8f339a-9017-4432-8f09-44a89fec2cdc')\"\n",
              "            title=\"Convert this dataframe to an interactive table.\"\n",
              "            style=\"display:none;\">\n",
              "\n",
              "  <svg xmlns=\"http://www.w3.org/2000/svg\" height=\"24px\" viewBox=\"0 -960 960 960\">\n",
              "    <path d=\"M120-120v-720h720v720H120Zm60-500h600v-160H180v160Zm220 220h160v-160H400v160Zm0 220h160v-160H400v160ZM180-400h160v-160H180v160Zm440 0h160v-160H620v160ZM180-180h160v-160H180v160Zm440 0h160v-160H620v160Z\"/>\n",
              "  </svg>\n",
              "    </button>\n",
              "\n",
              "  <style>\n",
              "    .colab-df-container {\n",
              "      display:flex;\n",
              "      gap: 12px;\n",
              "    }\n",
              "\n",
              "    .colab-df-convert {\n",
              "      background-color: #E8F0FE;\n",
              "      border: none;\n",
              "      border-radius: 50%;\n",
              "      cursor: pointer;\n",
              "      display: none;\n",
              "      fill: #1967D2;\n",
              "      height: 32px;\n",
              "      padding: 0 0 0 0;\n",
              "      width: 32px;\n",
              "    }\n",
              "\n",
              "    .colab-df-convert:hover {\n",
              "      background-color: #E2EBFA;\n",
              "      box-shadow: 0px 1px 2px rgba(60, 64, 67, 0.3), 0px 1px 3px 1px rgba(60, 64, 67, 0.15);\n",
              "      fill: #174EA6;\n",
              "    }\n",
              "\n",
              "    .colab-df-buttons div {\n",
              "      margin-bottom: 4px;\n",
              "    }\n",
              "\n",
              "    [theme=dark] .colab-df-convert {\n",
              "      background-color: #3B4455;\n",
              "      fill: #D2E3FC;\n",
              "    }\n",
              "\n",
              "    [theme=dark] .colab-df-convert:hover {\n",
              "      background-color: #434B5C;\n",
              "      box-shadow: 0px 1px 3px 1px rgba(0, 0, 0, 0.15);\n",
              "      filter: drop-shadow(0px 1px 2px rgba(0, 0, 0, 0.3));\n",
              "      fill: #FFFFFF;\n",
              "    }\n",
              "  </style>\n",
              "\n",
              "    <script>\n",
              "      const buttonEl =\n",
              "        document.querySelector('#df-0c8f339a-9017-4432-8f09-44a89fec2cdc button.colab-df-convert');\n",
              "      buttonEl.style.display =\n",
              "        google.colab.kernel.accessAllowed ? 'block' : 'none';\n",
              "\n",
              "      async function convertToInteractive(key) {\n",
              "        const element = document.querySelector('#df-0c8f339a-9017-4432-8f09-44a89fec2cdc');\n",
              "        const dataTable =\n",
              "          await google.colab.kernel.invokeFunction('convertToInteractive',\n",
              "                                                    [key], {});\n",
              "        if (!dataTable) return;\n",
              "\n",
              "        const docLinkHtml = 'Like what you see? Visit the ' +\n",
              "          '<a target=\"_blank\" href=https://colab.research.google.com/notebooks/data_table.ipynb>data table notebook</a>'\n",
              "          + ' to learn more about interactive tables.';\n",
              "        element.innerHTML = '';\n",
              "        dataTable['output_type'] = 'display_data';\n",
              "        await google.colab.output.renderOutput(dataTable, element);\n",
              "        const docLink = document.createElement('div');\n",
              "        docLink.innerHTML = docLinkHtml;\n",
              "        element.appendChild(docLink);\n",
              "      }\n",
              "    </script>\n",
              "  </div>\n",
              "\n",
              "\n",
              "<div id=\"df-275531c4-f8ad-4fab-8356-c373ac8dbc48\">\n",
              "  <button class=\"colab-df-quickchart\" onclick=\"quickchart('df-275531c4-f8ad-4fab-8356-c373ac8dbc48')\"\n",
              "            title=\"Suggest charts\"\n",
              "            style=\"display:none;\">\n",
              "\n",
              "<svg xmlns=\"http://www.w3.org/2000/svg\" height=\"24px\"viewBox=\"0 0 24 24\"\n",
              "     width=\"24px\">\n",
              "    <g>\n",
              "        <path d=\"M19 3H5c-1.1 0-2 .9-2 2v14c0 1.1.9 2 2 2h14c1.1 0 2-.9 2-2V5c0-1.1-.9-2-2-2zM9 17H7v-7h2v7zm4 0h-2V7h2v10zm4 0h-2v-4h2v4z\"/>\n",
              "    </g>\n",
              "</svg>\n",
              "  </button>\n",
              "\n",
              "<style>\n",
              "  .colab-df-quickchart {\n",
              "      --bg-color: #E8F0FE;\n",
              "      --fill-color: #1967D2;\n",
              "      --hover-bg-color: #E2EBFA;\n",
              "      --hover-fill-color: #174EA6;\n",
              "      --disabled-fill-color: #AAA;\n",
              "      --disabled-bg-color: #DDD;\n",
              "  }\n",
              "\n",
              "  [theme=dark] .colab-df-quickchart {\n",
              "      --bg-color: #3B4455;\n",
              "      --fill-color: #D2E3FC;\n",
              "      --hover-bg-color: #434B5C;\n",
              "      --hover-fill-color: #FFFFFF;\n",
              "      --disabled-bg-color: #3B4455;\n",
              "      --disabled-fill-color: #666;\n",
              "  }\n",
              "\n",
              "  .colab-df-quickchart {\n",
              "    background-color: var(--bg-color);\n",
              "    border: none;\n",
              "    border-radius: 50%;\n",
              "    cursor: pointer;\n",
              "    display: none;\n",
              "    fill: var(--fill-color);\n",
              "    height: 32px;\n",
              "    padding: 0;\n",
              "    width: 32px;\n",
              "  }\n",
              "\n",
              "  .colab-df-quickchart:hover {\n",
              "    background-color: var(--hover-bg-color);\n",
              "    box-shadow: 0 1px 2px rgba(60, 64, 67, 0.3), 0 1px 3px 1px rgba(60, 64, 67, 0.15);\n",
              "    fill: var(--button-hover-fill-color);\n",
              "  }\n",
              "\n",
              "  .colab-df-quickchart-complete:disabled,\n",
              "  .colab-df-quickchart-complete:disabled:hover {\n",
              "    background-color: var(--disabled-bg-color);\n",
              "    fill: var(--disabled-fill-color);\n",
              "    box-shadow: none;\n",
              "  }\n",
              "\n",
              "  .colab-df-spinner {\n",
              "    border: 2px solid var(--fill-color);\n",
              "    border-color: transparent;\n",
              "    border-bottom-color: var(--fill-color);\n",
              "    animation:\n",
              "      spin 1s steps(1) infinite;\n",
              "  }\n",
              "\n",
              "  @keyframes spin {\n",
              "    0% {\n",
              "      border-color: transparent;\n",
              "      border-bottom-color: var(--fill-color);\n",
              "      border-left-color: var(--fill-color);\n",
              "    }\n",
              "    20% {\n",
              "      border-color: transparent;\n",
              "      border-left-color: var(--fill-color);\n",
              "      border-top-color: var(--fill-color);\n",
              "    }\n",
              "    30% {\n",
              "      border-color: transparent;\n",
              "      border-left-color: var(--fill-color);\n",
              "      border-top-color: var(--fill-color);\n",
              "      border-right-color: var(--fill-color);\n",
              "    }\n",
              "    40% {\n",
              "      border-color: transparent;\n",
              "      border-right-color: var(--fill-color);\n",
              "      border-top-color: var(--fill-color);\n",
              "    }\n",
              "    60% {\n",
              "      border-color: transparent;\n",
              "      border-right-color: var(--fill-color);\n",
              "    }\n",
              "    80% {\n",
              "      border-color: transparent;\n",
              "      border-right-color: var(--fill-color);\n",
              "      border-bottom-color: var(--fill-color);\n",
              "    }\n",
              "    90% {\n",
              "      border-color: transparent;\n",
              "      border-bottom-color: var(--fill-color);\n",
              "    }\n",
              "  }\n",
              "</style>\n",
              "\n",
              "  <script>\n",
              "    async function quickchart(key) {\n",
              "      const quickchartButtonEl =\n",
              "        document.querySelector('#' + key + ' button');\n",
              "      quickchartButtonEl.disabled = true;  // To prevent multiple clicks.\n",
              "      quickchartButtonEl.classList.add('colab-df-spinner');\n",
              "      try {\n",
              "        const charts = await google.colab.kernel.invokeFunction(\n",
              "            'suggestCharts', [key], {});\n",
              "      } catch (error) {\n",
              "        console.error('Error during call to suggestCharts:', error);\n",
              "      }\n",
              "      quickchartButtonEl.classList.remove('colab-df-spinner');\n",
              "      quickchartButtonEl.classList.add('colab-df-quickchart-complete');\n",
              "    }\n",
              "    (() => {\n",
              "      let quickchartButtonEl =\n",
              "        document.querySelector('#df-275531c4-f8ad-4fab-8356-c373ac8dbc48 button');\n",
              "      quickchartButtonEl.style.display =\n",
              "        google.colab.kernel.accessAllowed ? 'block' : 'none';\n",
              "    })();\n",
              "  </script>\n",
              "</div>\n",
              "    </div>\n",
              "  </div>\n"
            ],
            "text/plain": [
              "                                            sentence  \\\n",
              "0  The transcription factor hepatocyte nuclear fa...   \n",
              "1  The transcription factor hepatocyte nuclear fa...   \n",
              "2  The transcription factor hepatocyte nuclear fa...   \n",
              "3  We have identified a type II Ca2+-dependent le...   \n",
              "4  We have undertaken a hospital-based study, to ...   \n",
              "\n",
              "                                  e1                entity1_type  e1strt  \\\n",
              "0  hepatocyte nuclear factor (HNF)-6           GeneOrGeneProduct      25   \n",
              "1                            glucose              ChemicalEntity     359   \n",
              "2                            glucose              ChemicalEntity     359   \n",
              "3      type II Ca2+-dependent lectin           GeneOrGeneProduct      21   \n",
              "4                     breast cancers  DiseaseOrPhenotypicFeature     476   \n",
              "\n",
              "   e1end                       e2                entity2_type  e2strt  e2end  \\\n",
              "0     57  maturity-onset diabetes  DiseaseOrPhenotypicFeature     133    155   \n",
              "1    365                  insulin           GeneOrGeneProduct     284    290   \n",
              "2    365  maturity-onset diabetes  DiseaseOrPhenotypicFeature     133    155   \n",
              "3     49                  mannose              ChemicalEntity      62     68   \n",
              "4    489                 5382insC             SequenceVariant    1387   1394   \n",
              "\n",
              "               relation                                      word_sequence  \\\n",
              "0           Association  6 is an upstream regulator of several genes in...   \n",
              "1  Positive_Correlation                                                      \n",
              "2           Association                                                      \n",
              "3                  Bind                                       n displaying   \n",
              "4  Positive_Correlation  s only. Genomic DNA was prepared from the peri...   \n",
              "\n",
              "   no_of_words_between_entites  proximty_distance  \n",
              "0                           13                 75  \n",
              "1                            0                  0  \n",
              "2                            0                  0  \n",
              "3                            2                 12  \n",
              "4                          149                897  "
            ]
          },
          "execution_count": 17,
          "metadata": {},
          "output_type": "execute_result"
        }
      ],
      "source": [
        "# Preview the Training Data\n",
        "bio_red_data.head()"
      ]
    },
    {
      "cell_type": "markdown",
      "metadata": {
        "id": "eTn2soOw-w1s"
      },
      "source": [
        "#### Text Tokenization and Word2Vec Model Training"
      ]
    },
    {
      "cell_type": "code",
      "execution_count": null,
      "metadata": {
        "colab": {
          "base_uri": "https://localhost:8080/"
        },
        "id": "fFV4hOtR4xbi",
        "outputId": "f7c15923-6e5d-4b63-ff09-56a934953db2"
      },
      "outputs": [
        {
          "name": "stderr",
          "output_type": "stream",
          "text": [
            "WARNING:gensim.models.word2vec:Effective 'alpha' higher than previous training cycles\n"
          ]
        },
        {
          "data": {
            "text/plain": [
              "(23397643, 31211940)"
            ]
          },
          "execution_count": 22,
          "metadata": {},
          "output_type": "execute_result"
        }
      ],
      "source": [
        "# Tokenize the sentences in the training and test data\n",
        "bio_red_data['Tokenized_Sentence'] = bio_red_data['sentence'].apply(tokenize_text)\n",
        "bio_red_test_data['Tokenized_Sentence'] = bio_red_test_data['sentence'].apply(tokenize_text)\n",
        "\n",
        "# Initialize Word2Vec model with specified parameters and train it\n",
        "model = Word2Vec(bio_red_data['Tokenized_Sentence'], vector_size=300, window = 15, min_count = 1, workers = 15)\n",
        "model.train(bio_red_data['Tokenized_Sentence'], total_examples=len(bio_red_data['Tokenized_Sentence']), epochs = 30)"
      ]
    },
    {
      "cell_type": "code",
      "execution_count": null,
      "metadata": {
        "id": "kVESmsTtPFsL"
      },
      "outputs": [],
      "source": [
        "# Save the word vectors to a KeyedVectors format\n",
        "wv = model.wv\n",
        "wv.save('BioRed-vectors.kv')"
      ]
    },
    {
      "cell_type": "markdown",
      "metadata": {
        "id": "XRvsB3sB-w1s"
      },
      "source": [
        "#### Sentence Vectorization and Entity POS Tag finder functions"
      ]
    },
    {
      "cell_type": "code",
      "execution_count": null,
      "metadata": {
        "id": "c_mTBk2IPuwO"
      },
      "outputs": [],
      "source": [
        "# Sentence Vectorization Function\n",
        "def sentence_vec(words):\n",
        "  '''\n",
        "  function that takes a word or a sequence of words as input and outputs the sentence's vector representation\n",
        "  by taking average of all word vectors present in the sentence\n",
        "  '''\n",
        "  sent_vec = np.zeros(300)\n",
        "  num_words = 0\n",
        "  for word in words:\n",
        "    if word in wv:\n",
        "      sent_vec += wv[word]\n",
        "      num_words += 1\n",
        "  sent_vec = sent_vec / num_words\n",
        "  return sent_vec\n",
        "\n",
        "# Entity POS Tag Finder Function\n",
        "def find_e1_e2_pos_tag(row):\n",
        "  sentence = row['sentence']\n",
        "  # e1 and e2 can contain more than one word. So for both e1 and e2 we get the first word and find its POS tag.\n",
        "  e1 = row['e1'].split()[0]\n",
        "  e2 = row['e2'].split()[0]\n",
        "  doc = spacy_nlp(sentence)\n",
        "  e1_pos, e2_pos = 8, 8\n",
        "  for token in doc:\n",
        "    if token.text == e1:\n",
        "      e1_pos = token.pos\n",
        "    elif token.text == e2:\n",
        "      e2_pos = token.pos\n",
        "  return e1_pos, e2_pos"
      ]
    },
    {
      "cell_type": "code",
      "execution_count": null,
      "metadata": {
        "id": "G_ud4ww6Zj37"
      },
      "outputs": [],
      "source": [
        "df = pd.DataFrame(bio_red_data,columns = ['sentence', 'e1', 'e2', 'entity1_type', 'entity2_type', 'word_sequence','no_of_words_between_entites', 'proximty_distance','relation'])\n",
        "df_test = pd.DataFrame(bio_red_test_data,columns = ['sentence', 'e1', 'e2', 'entity1_type', 'entity2_type', 'word_sequence','no_of_words_between_entites', 'proximty_distance','relation'])"
      ]
    },
    {
      "cell_type": "markdown",
      "metadata": {
        "id": "UIR1-jj2vsSH"
      },
      "source": [
        "#### Visualize the Data\n",
        "\n",
        "This bar chart illustrates the distribution of different types of relationships found within the dataset. Each bar represents the frequency of a particular relationship category, such as 'Association', 'Positive_Correlation', 'Negative_Correlation', among others."
      ]
    },
    {
      "cell_type": "code",
      "execution_count": null,
      "metadata": {
        "colab": {
          "base_uri": "https://localhost:8080/",
          "height": 607
        },
        "id": "1Xw5few2vpjW",
        "outputId": "a1ebfa8a-4ed4-4f40-e1f1-f1cabd4ee440"
      },
      "outputs": [
        {
          "data": {
            "image/png": "[encoded data removed]",
            "text/plain": [
              "<Figure size 1000x600 with 1 Axes>"
            ]
          },
          "metadata": {},
          "output_type": "display_data"
        }
      ],
      "source": [
        "plt.figure(figsize=(10, 6))\n",
        "df['relation'].value_counts().plot(kind='bar', color='skyblue')\n",
        "plt.title('Relation Distribution')\n",
        "plt.xlabel('Relation')\n",
        "plt.ylabel('Count')\n",
        "plt.xticks(rotation=45)\n",
        "plt.tight_layout()\n",
        "plt.show()"
      ]
    },
    {
      "cell_type": "markdown",
      "metadata": {
        "id": "RwcoWDem-w1u"
      },
      "source": [
        "From the chart, we can observe that 'Association' is the most common type of relationship, followed by 'Positive_Correlation' and 'Negative_Correlation'. Categories like 'Bind', 'Cotreatment', 'Comparison', 'Drug_Interaction', and 'Conversion' are less frequent in comparison. This visualization helps in understanding the imbalance in the dataset which might be an important factor to consider during the model training process."
      ]
    },
    {
      "cell_type": "markdown",
      "metadata": {
        "id": "mcltbhRs-w1u"
      },
      "source": [
        "#### Feature Engineering for Train and Test Data"
      ]
    },
    {
      "cell_type": "code",
      "execution_count": null,
      "metadata": {
        "id": "tP1gnLJP5K6-"
      },
      "outputs": [],
      "source": [
        "# Train Data Vectorization\n",
        "df['sentence_vector'] = bio_red_data['Tokenized_Sentence'].apply(sentence_vec)\n",
        "df['e1_vec'] = df['e1'].apply(sentence_vec)\n",
        "df['e2_vec'] = df['e2'].apply(sentence_vec)\n",
        "df['e1_e2_pos_tags'] = df.apply(find_e1_e2_pos_tag, axis=1)"
      ]
    },
    {
      "cell_type": "code",
      "execution_count": null,
      "metadata": {
        "id": "Bs2uW2ee1YRa"
      },
      "outputs": [],
      "source": [
        "# Test Data Vectorization\n",
        "df_test['sentence_vector'] = bio_red_test_data['Tokenized_Sentence'].apply(sentence_vec)\n",
        "df_test['e1_vec'] = df_test['e1'].apply(sentence_vec)\n",
        "df_test['e2_vec'] = df_test['e2'].apply(sentence_vec)\n",
        "df_test['e1_e2_pos_tags'] = df_test.apply(find_e1_e2_pos_tag, axis=1)"
      ]
    },
    {
      "cell_type": "markdown",
      "metadata": {
        "id": "RgyZcLMD-w1v"
      },
      "source": [
        "#### TF-IDF Vectorization"
      ]
    },
    {
      "cell_type": "code",
      "execution_count": null,
      "metadata": {
        "colab": {
          "base_uri": "https://localhost:8080/",
          "height": 74
        },
        "id": "X5KOGJiI6IEC",
        "outputId": "a81b42f9-beb9-4b19-a14f-621c7e5ddcac"
      },
      "outputs": [
        {
          "data": {
            "text/html": [
              "<style>#sk-container-id-1 {color: black;background-color: white;}#sk-container-id-1 pre{padding: 0;}#sk-container-id-1 div.sk-toggleable {background-color: white;}#sk-container-id-1 label.sk-toggleable__label {cursor: pointer;display: block;width: 100%;margin-bottom: 0;padding: 0.3em;box-sizing: border-box;text-align: center;}#sk-container-id-1 label.sk-toggleable__label-arrow:before {content: \"▸\";float: left;margin-right: 0.25em;color: #696969;}#sk-container-id-1 label.sk-toggleable__label-arrow:hover:before {color: black;}#sk-container-id-1 div.sk-estimator:hover label.sk-toggleable__label-arrow:before {color: black;}#sk-container-id-1 div.sk-toggleable__content {max-height: 0;max-width: 0;overflow: hidden;text-align: left;background-color: #f0f8ff;}#sk-container-id-1 div.sk-toggleable__content pre {margin: 0.2em;color: black;border-radius: 0.25em;background-color: #f0f8ff;}#sk-container-id-1 input.sk-toggleable__control:checked~div.sk-toggleable__content {max-height: 200px;max-width: 100%;overflow: auto;}#sk-container-id-1 input.sk-toggleable__control:checked~label.sk-toggleable__label-arrow:before {content: \"▾\";}#sk-container-id-1 div.sk-estimator input.sk-toggleable__control:checked~label.sk-toggleable__label {background-color: #d4ebff;}#sk-container-id-1 div.sk-label input.sk-toggleable__control:checked~label.sk-toggleable__label {background-color: #d4ebff;}#sk-container-id-1 input.sk-hidden--visually {border: 0;clip: rect(1px 1px 1px 1px);clip: rect(1px, 1px, 1px, 1px);height: 1px;margin: -1px;overflow: hidden;padding: 0;position: absolute;width: 1px;}#sk-container-id-1 div.sk-estimator {font-family: monospace;background-color: #f0f8ff;border: 1px dotted black;border-radius: 0.25em;box-sizing: border-box;margin-bottom: 0.5em;}#sk-container-id-1 div.sk-estimator:hover {background-color: #d4ebff;}#sk-container-id-1 div.sk-parallel-item::after {content: \"\";width: 100%;border-bottom: 1px solid gray;flex-grow: 1;}#sk-container-id-1 div.sk-label:hover label.sk-toggleable__label {background-color: #d4ebff;}#sk-container-id-1 div.sk-serial::before {content: \"\";position: absolute;border-left: 1px solid gray;box-sizing: border-box;top: 0;bottom: 0;left: 50%;z-index: 0;}#sk-container-id-1 div.sk-serial {display: flex;flex-direction: column;align-items: center;background-color: white;padding-right: 0.2em;padding-left: 0.2em;position: relative;}#sk-container-id-1 div.sk-item {position: relative;z-index: 1;}#sk-container-id-1 div.sk-parallel {display: flex;align-items: stretch;justify-content: center;background-color: white;position: relative;}#sk-container-id-1 div.sk-item::before, #sk-container-id-1 div.sk-parallel-item::before {content: \"\";position: absolute;border-left: 1px solid gray;box-sizing: border-box;top: 0;bottom: 0;left: 50%;z-index: -1;}#sk-container-id-1 div.sk-parallel-item {display: flex;flex-direction: column;z-index: 1;position: relative;background-color: white;}#sk-container-id-1 div.sk-parallel-item:first-child::after {align-self: flex-end;width: 50%;}#sk-container-id-1 div.sk-parallel-item:last-child::after {align-self: flex-start;width: 50%;}#sk-container-id-1 div.sk-parallel-item:only-child::after {width: 0;}#sk-container-id-1 div.sk-dashed-wrapped {border: 1px dashed gray;margin: 0 0.4em 0.5em 0.4em;box-sizing: border-box;padding-bottom: 0.4em;background-color: white;}#sk-container-id-1 div.sk-label label {font-family: monospace;font-weight: bold;display: inline-block;line-height: 1.2em;}#sk-container-id-1 div.sk-label-container {text-align: center;}#sk-container-id-1 div.sk-container {/* jupyter's `normalize.less` sets `[hidden] { display: none; }` but bootstrap.min.css set `[hidden] { display: none !important; }` so we also need the `!important` here to be able to override the default hidden behavior on the sphinx rendered scikit-learn.org. See: https://github.com/scikit-learn/scikit-learn/issues/21755 */display: inline-block !important;position: relative;}#sk-container-id-1 div.sk-text-repr-fallback {display: none;}</style><div id=\"sk-container-id-1\" class=\"sk-top-container\"><div class=\"sk-text-repr-fallback\"><pre>TfidfVectorizer(max_features=200)</pre><b>In a Jupyter environment, please rerun this cell to show the HTML representation or trust the notebook. <br />On GitHub, the HTML representation is unable to render, please try loading this page with nbviewer.org.</b></div><div class=\"sk-container\" hidden><div class=\"sk-item\"><div class=\"sk-estimator sk-toggleable\"><input class=\"sk-toggleable__control sk-hidden--visually\" id=\"sk-estimator-id-1\" type=\"checkbox\" checked><label for=\"sk-estimator-id-1\" class=\"sk-toggleable__label sk-toggleable__label-arrow\">TfidfVectorizer</label><div class=\"sk-toggleable__content\"><pre>TfidfVectorizer(max_features=200)</pre></div></div></div></div></div>"
            ],
            "text/plain": [
              "TfidfVectorizer(max_features=200)"
            ]
          },
          "execution_count": 29,
          "metadata": {},
          "output_type": "execute_result"
        }
      ],
      "source": [
        "# Initialize and fit TF-IDF vectorizer to the sentences in the training data\n",
        "vectorizer = TfidfVectorizer(max_features=200)\n",
        "vectorizer.fit(df['sentence'])"
      ]
    },
    {
      "cell_type": "code",
      "execution_count": null,
      "metadata": {
        "id": "0GJjOvu0naZv"
      },
      "outputs": [],
      "source": [
        "# Transform sentences into TF-IDF feature vectors for both training and test datasets\n",
        "tfidf_features = vectorizer.transform(df['sentence'].to_list()).toarray()\n",
        "tfidf_features_test = vectorizer.transform(df_test['sentence'].to_list()).toarray()"
      ]
    },
    {
      "cell_type": "markdown",
      "metadata": {
        "id": "BTQzBYCg-w1w"
      },
      "source": [
        "#### One Hot Encoding of Categorical Variables"
      ]
    },
    {
      "cell_type": "code",
      "execution_count": null,
      "metadata": {
        "id": "7kkBpW8Jo055"
      },
      "outputs": [],
      "source": [
        "# One Hot Encoding for categorical features\n",
        "encoded_cats = pd.get_dummies(df[['entity1_type', 'entity2_type']])\n",
        "encoded_cats_test = pd.get_dummies(df_test[['entity1_type', 'entity2_type']])"
      ]
    },
    {
      "cell_type": "markdown",
      "metadata": {
        "id": "BWQ3MGPQ-w1w"
      },
      "source": [
        "#### Label Encoding of Target Variable"
      ]
    },
    {
      "cell_type": "code",
      "execution_count": null,
      "metadata": {
        "id": "eM0kL3dIiWGG"
      },
      "outputs": [],
      "source": [
        "# Initialize label encoder and transform the 'relation' column into numerical labels\n",
        "label_encoder = LabelEncoder()\n",
        "y_train = label_encoder.fit_transform(df['relation'])\n",
        "y_test = label_encoder.fit_transform(df_test['relation'])"
      ]
    },
    {
      "cell_type": "code",
      "execution_count": null,
      "metadata": {
        "colab": {
          "base_uri": "https://localhost:8080/"
        },
        "id": "Gvy9DYfRr-cZ",
        "outputId": "332d5ab3-18bd-4ede-fa2d-2d5e68e5b3d3"
      },
      "outputs": [
        {
          "name": "stdout",
          "output_type": "stream",
          "text": [
            "{'Association': 0, 'Bind': 1, 'Comparison': 2, 'Conversion': 3, 'Cotreatment': 4, 'Drug_Interaction': 5, 'Negative_Correlation': 6, 'Positive_Correlation': 7}\n"
          ]
        }
      ],
      "source": [
        "# Create a mapping of class names to numerical labels\n",
        "classes = label_encoder.classes_\n",
        "label_mapping = {label: index for index, label in enumerate(classes)}\n",
        "print(label_mapping)"
      ]
    },
    {
      "cell_type": "markdown",
      "metadata": {
        "id": "7sfGsFyd-w1x"
      },
      "source": [
        "#### Assembling Feature Vectors\n"
      ]
    },
    {
      "cell_type": "code",
      "execution_count": null,
      "metadata": {
        "id": "9qA6EMfuqGVn"
      },
      "outputs": [],
      "source": [
        "# Assemble feature vectors for the training set\n",
        "X_train = [\n",
        "    np.concatenate((\n",
        "        row['sentence_vector'],\n",
        "        row['e1_vec'],\n",
        "        row['e2_vec'],\n",
        "        row[\"e1_e2_pos_tags\"],\n",
        "        tfidf_features[idx],  # Assuming tfidf_features is a DataFrame\n",
        "        encoded_cats.iloc[idx].values,  # Include the one-hot encoded categorical features\n",
        "    )) for idx, row in df.iterrows()\n",
        "]"
      ]
    },
    {
      "cell_type": "code",
      "execution_count": null,
      "metadata": {
        "id": "NDsZ2bwrEXWM"
      },
      "outputs": [],
      "source": [
        "# Repeat the process for the test set\n",
        "X_test = [\n",
        "    np.concatenate((\n",
        "        row['sentence_vector'],\n",
        "        row['e1_vec'],\n",
        "        row['e2_vec'],\n",
        "        row[\"e1_e2_pos_tags\"],\n",
        "        tfidf_features_test[idx],  # Assuming tfidf_features is a DataFrame\n",
        "        encoded_cats_test.iloc[idx].values,  # Include the one-hot encoded categorical features\n",
        "    )) for idx, row in df_test.iterrows()\n",
        "]\n"
      ]
    },
    {
      "cell_type": "markdown",
      "metadata": {
        "id": "_s9496b5-w1y"
      },
      "source": [
        "#### Hyperparameter Tuning on a SVM Classifier : GRID SEARCH"
      ]
    },
    {
      "cell_type": "code",
      "execution_count": null,
      "metadata": {
        "colab": {
          "base_uri": "https://localhost:8080/"
        },
        "id": "jpKlJ_U36M2o",
        "outputId": "1ec543bf-6679-4152-97b2-816e6d993cf3"
      },
      "outputs": [
        {
          "name": "stdout",
          "output_type": "stream",
          "text": [
            "Model with C= 50  gamma= 0.1\n",
            "Accuracy: 0.5199579831932774\n",
            "F1 Score: 0.5199579831932774\n",
            "Precision: 0.5199579831932774\n",
            "Recall: 0.5199579831932774\n",
            "Model with C= 50  gamma= 0.01\n",
            "Accuracy: 0.5441176470588235\n",
            "F1 Score: 0.5441176470588235\n",
            "Precision: 0.5441176470588235\n",
            "Recall: 0.5441176470588235\n",
            "Model with C= 50  gamma= 0.001\n",
            "Accuracy: 0.4894957983193277\n",
            "F1 Score: 0.4894957983193277\n",
            "Precision: 0.4894957983193277\n",
            "Recall: 0.4894957983193277\n",
            "Model with C= 50  gamma= 0.0001\n",
            "Accuracy: 0.5504201680672269\n",
            "F1 Score: 0.5504201680672269\n",
            "Precision: 0.5504201680672269\n",
            "Recall: 0.5504201680672269\n",
            "Model with C= 100  gamma= 0.1\n",
            "Accuracy: 0.5199579831932774\n",
            "F1 Score: 0.5199579831932774\n",
            "Precision: 0.5199579831932774\n",
            "Recall: 0.5199579831932774\n",
            "Model with C= 100  gamma= 0.01\n",
            "Accuracy: 0.5441176470588235\n",
            "F1 Score: 0.5441176470588235\n",
            "Precision: 0.5441176470588235\n",
            "Recall: 0.5441176470588235\n",
            "Model with C= 100  gamma= 0.001\n",
            "Accuracy: 0.4737394957983193\n",
            "F1 Score: 0.4737394957983193\n",
            "Precision: 0.4737394957983193\n",
            "Recall: 0.4737394957983193\n",
            "Model with C= 100  gamma= 0.0001\n",
            "Accuracy: 0.5336134453781513\n",
            "F1 Score: 0.5336134453781513\n",
            "Precision: 0.5336134453781513\n",
            "Recall: 0.5336134453781513\n",
            "Model with C= 150  gamma= 0.1\n",
            "Accuracy: 0.5199579831932774\n",
            "F1 Score: 0.5199579831932774\n",
            "Precision: 0.5199579831932774\n",
            "Recall: 0.5199579831932774\n",
            "Model with C= 150  gamma= 0.01\n",
            "Accuracy: 0.5441176470588235\n",
            "F1 Score: 0.5441176470588235\n",
            "Precision: 0.5441176470588235\n",
            "Recall: 0.5441176470588235\n",
            "Model with C= 150  gamma= 0.001\n",
            "Accuracy: 0.4800420168067227\n",
            "F1 Score: 0.4800420168067227\n",
            "Precision: 0.4800420168067227\n",
            "Recall: 0.4800420168067227\n",
            "Model with C= 150  gamma= 0.0001\n",
            "Accuracy: 0.5199579831932774\n",
            "F1 Score: 0.5199579831932774\n",
            "Precision: 0.5199579831932774\n",
            "Recall: 0.5199579831932774\n",
            "Model with C= 200  gamma= 0.1\n",
            "Accuracy: 0.5199579831932774\n",
            "F1 Score: 0.5199579831932774\n",
            "Precision: 0.5199579831932774\n",
            "Recall: 0.5199579831932774\n",
            "Model with C= 200  gamma= 0.01\n",
            "Accuracy: 0.5441176470588235\n",
            "F1 Score: 0.5441176470588235\n",
            "Precision: 0.5441176470588235\n",
            "Recall: 0.5441176470588235\n",
            "Model with C= 200  gamma= 0.001\n",
            "Accuracy: 0.4800420168067227\n",
            "F1 Score: 0.4800420168067227\n",
            "Precision: 0.4800420168067227\n",
            "Recall: 0.4800420168067227\n",
            "Model with C= 200  gamma= 0.0001\n",
            "Accuracy: 0.5115546218487395\n",
            "F1 Score: 0.5115546218487395\n",
            "Precision: 0.5115546218487395\n",
            "Recall: 0.5115546218487395\n"
          ]
        }
      ],
      "source": [
        "# Hyperparameter tuning for SVM classifier\n",
        "C_values = [50, 100, 150, 200]\n",
        "gamma_values = [0.1, 0.01, 0.001, 0.0001]\n",
        "\n",
        "# Iterate over all combinations of C and gamma values\n",
        "for C in C_values:\n",
        "  for gamma in gamma_values:\n",
        "    # Initialize SVM with current C and gamma values\n",
        "    svm_model = svm.SVC(kernel='rbf', C=C, gamma=gamma)\n",
        "    svm_model.fit(X_train, y_train)\n",
        "    y_pred = svm_model.predict(X_test)\n",
        "\n",
        "    # Calculate evaluation metrics\n",
        "    accuracy = accuracy_score(y_test, y_pred)\n",
        "    f1 = f1_score(y_test, y_pred, average='micro')  # Micro F1 score for multiclass classification\n",
        "    precision = precision_score(y_test, y_pred, average='micro')  # Micro precision for multiclass classification\n",
        "    recall = recall_score(y_test, y_pred, average='micro')  # Micro recall for multiclass classification\n",
        "\n",
        "    # Print the evaluation metrics\n",
        "    print(\"Model with C=\", C, \" gamma=\", gamma)\n",
        "    print(\"Accuracy:\", accuracy)\n",
        "    print(\"F1 Score:\", f1)\n",
        "    print(\"Precision:\", precision)\n",
        "    print(\"Recall:\", recall)"
      ]
    },
    {
      "cell_type": "markdown",
      "metadata": {
        "id": "a3aUJPIQkDGw"
      },
      "source": [
        "Optimal Parameters for the Model are C= 50  gamma= 0.0001\n"
      ]
    },
    {
      "cell_type": "code",
      "execution_count": null,
      "metadata": {
        "id": "QqHOLNOtcR6t"
      },
      "outputs": [],
      "source": [
        "svm_model = svm.SVC(kernel='rbf', C=50, gamma=0.0001)\n",
        "svm_model.fit(X_train, y_train)\n",
        "y_pred = svm_model.predict(X_test)"
      ]
    },
    {
      "cell_type": "code",
      "execution_count": null,
      "metadata": {
        "colab": {
          "base_uri": "https://localhost:8080/"
        },
        "id": "8-15YiLckQzr",
        "outputId": "b9820151-c51c-4933-f926-e6f5f6027461"
      },
      "outputs": [
        {
          "name": "stdout",
          "output_type": "stream",
          "text": [
            "              precision    recall  f1-score   support\n",
            "\n",
            "           0       0.65      0.78      0.71       495\n",
            "           1       0.00      0.00      0.00         5\n",
            "           2       0.00      0.00      0.00         6\n",
            "           3       0.00      0.00      0.00         1\n",
            "           4       0.00      0.00      0.00        14\n",
            "           5       0.00      0.00      0.00         2\n",
            "           6       0.34      0.22      0.27       159\n",
            "           7       0.41      0.37      0.39       270\n",
            "\n",
            "    accuracy                           0.55       952\n",
            "   macro avg       0.17      0.17      0.17       952\n",
            "weighted avg       0.51      0.55      0.52       952\n",
            "\n"
          ]
        },
        {
          "name": "stderr",
          "output_type": "stream",
          "text": [
            "/usr/local/lib/python3.10/dist-packages/sklearn/metrics/_classification.py:1344: UndefinedMetricWarning: Precision and F-score are ill-defined and being set to 0.0 in labels with no predicted samples. Use `zero_division` parameter to control this behavior.\n",
            "  _warn_prf(average, modifier, msg_start, len(result))\n",
            "/usr/local/lib/python3.10/dist-packages/sklearn/metrics/_classification.py:1344: UndefinedMetricWarning: Precision and F-score are ill-defined and being set to 0.0 in labels with no predicted samples. Use `zero_division` parameter to control this behavior.\n",
            "  _warn_prf(average, modifier, msg_start, len(result))\n",
            "/usr/local/lib/python3.10/dist-packages/sklearn/metrics/_classification.py:1344: UndefinedMetricWarning: Precision and F-score are ill-defined and being set to 0.0 in labels with no predicted samples. Use `zero_division` parameter to control this behavior.\n",
            "  _warn_prf(average, modifier, msg_start, len(result))\n"
          ]
        }
      ],
      "source": [
        "print(classification_report(y_test, y_pred))"
      ]
    },
    {
      "cell_type": "markdown",
      "metadata": {
        "id": "AdEtx-kh-w1z"
      },
      "source": [
        "The classification report shows the performance of the SVM classifier on the test set. Each row corresponds to a class in our dataset, and the columns provide metrics such as precision, recall, and F1-score for each class.\n",
        "\n",
        "The macro-average gives us an unweighted average performance across classes, while the weighted average takes the support into account, providing a performance metric that is weighted by the number of true instances for each label."
      ]
    },
    {
      "cell_type": "code",
      "execution_count": null,
      "metadata": {
        "colab": {
          "base_uri": "https://localhost:8080/"
        },
        "id": "08hKaqNVGBaS",
        "outputId": "dbd52260-985a-4ebc-95cc-18c0875d8f13"
      },
      "outputs": [
        {
          "name": "stdout",
          "output_type": "stream",
          "text": [
            "Accuracy: 0.5504201680672269\n",
            "F1 Score: 0.5504201680672269\n",
            "Precision: 0.5504201680672269\n",
            "Recall: 0.5504201680672269\n"
          ]
        }
      ],
      "source": [
        "accuracy = accuracy_score(y_test, y_pred)\n",
        "f1 = f1_score(y_test, y_pred, average='micro')\n",
        "precision = precision_score(y_test, y_pred, average='micro')\n",
        "recall = recall_score(y_test, y_pred, average='micro')\n",
        "print(\"Accuracy:\", accuracy)\n",
        "print(\"F1 Score:\", f1)\n",
        "print(\"Precision:\", precision)\n",
        "print(\"Recall:\", recall)"
      ]
    },
    {
      "cell_type": "code",
      "execution_count": null,
      "metadata": {
        "colab": {
          "base_uri": "https://localhost:8080/"
        },
        "id": "UDJ5ZWMGkioQ",
        "outputId": "4635af2e-5478-4dea-b21b-9aebfb90d3ab"
      },
      "outputs": [
        {
          "name": "stdout",
          "output_type": "stream",
          "text": [
            "[[388   0   0   0   0   0  26  81]\n",
            " [  5   0   0   0   0   0   0   0]\n",
            " [  1   0   0   0   0   0   3   2]\n",
            " [  0   0   0   0   0   0   0   1]\n",
            " [  2   0   0   0   0   0   9   3]\n",
            " [  0   0   0   0   0   0   0   2]\n",
            " [ 65   0   0   0   0   0  35  59]\n",
            " [139   1   0   0   0   0  29 101]]\n"
          ]
        }
      ],
      "source": [
        "confusionmatrix = confusion_matrix(y_test, y_pred)\n",
        "print(confusionmatrix)"
      ]
    },
    {
      "cell_type": "markdown",
      "metadata": {
        "id": "mdjtQKy4-w10"
      },
      "source": [
        "The confusion matrix provides a tabular representation of the actual versus predicted classes."
      ]
    },
    {
      "cell_type": "code",
      "execution_count": null,
      "metadata": {
        "colab": {
          "base_uri": "https://localhost:8080/",
          "height": 564
        },
        "id": "duoWbIiukueF",
        "outputId": "f9491bb1-6321-4ff7-bf21-b7490e814dae"
      },
      "outputs": [
        {
          "data": {
            "image/png": "[encoded data removed]",
            "text/plain": [
              "<Figure size 800x600 with 2 Axes>"
            ]
          },
          "metadata": {},
          "output_type": "display_data"
        }
      ],
      "source": [
        "# Plot heatmap\n",
        "labels = [i for i in range(8)]\n",
        "plt.figure(figsize=(8, 6))\n",
        "sns.heatmap(confusionmatrix, annot=True, cmap='Blues', fmt='g', xticklabels=labels, yticklabels=labels)\n",
        "plt.xlabel('Predicted labels')\n",
        "plt.ylabel('True labels')\n",
        "plt.title('Confusion Matrix plotted as a heatmap')\n",
        "plt.show()"
      ]
    },
    {
      "cell_type": "markdown",
      "metadata": {
        "id": "3AhJwDqG-w11"
      },
      "source": [
        "The heatmap above provides a visual interpretation of the confusion matrix, offering a color-coded representation of how well the model is classifying the different classes. In this matrix, the x-axis represents the predicted labels, while the y-axis represents the true labels. The color intensity and the number in each cell correspond to the count of instances, making it easy to identify which classes are being confused with each other."
      ]
    },
    {
      "cell_type": "markdown",
      "metadata": {
        "id": "MOjFHTq--w11"
      },
      "source": [
        "#### Saving Model"
      ]
    },
    {
      "cell_type": "code",
      "execution_count": null,
      "metadata": {
        "colab": {
          "base_uri": "https://localhost:8080/"
        },
        "id": "WCzi_p2qk8GA",
        "outputId": "af9cf677-356b-42f7-d6cf-6ae896a61270"
      },
      "outputs": [
        {
          "name": "stdout",
          "output_type": "stream",
          "text": [
            "Saved SVM model and TF-IDF vectorizer!\n"
          ]
        }
      ],
      "source": [
        "# Save model and tf-idf vectorizer\n",
        "from joblib import dump\n",
        "\n",
        "dump(svm_model, 'svm_model.pkl')\n",
        "dump(vectorizer, 'tfidf_vectorizer.joblib')\n",
        "\n",
        "print(\"Saved SVM model and TF-IDF vectorizer!\")"
      ]
    },
    {
      "cell_type": "markdown",
      "metadata": {
        "id": "mKfMXg1r_f5L"
      },
      "source": [
        "#### The following blocks of code can be used to test our model based on user input"
      ]
    },
    {
      "cell_type": "code",
      "execution_count": null,
      "metadata": {
        "colab": {
          "base_uri": "https://localhost:8080/"
        },
        "id": "ya-_IMJYyORc",
        "outputId": "5c048a37-024d-4881-c3ac-56dcc99a5e9a"
      },
      "outputs": [
        {
          "name": "stdout",
          "output_type": "stream",
          "text": [
            "Drive already mounted at /gdrive; to attempt to forcibly remount, call drive.mount(\"/gdrive\", force_remount=True).\n",
            "/gdrive/MyDrive/BioRed_TextMining_SVM\n",
            "BioRed-vectors.kv  Test.BioC.JSON  tfidf_vectorizer.joblib  train.JSON\n",
            "svm_model.pkl\t   test.JSON\t   Train.BioC.JSON\n"
          ]
        }
      ],
      "source": [
        "# Run this cell only if you are using Google Colab.\n",
        "#If you want to run it in local please download the model from the zip file or google drive link provided and change path accordingly.\n",
        "from google.colab import drive\n",
        "drive.mount('/gdrive')\n",
        "%cd /gdrive/MyDrive/BioRed_TextMining_SVM\n",
        "!ls"
      ]
    },
    {
      "cell_type": "markdown",
      "metadata": {
        "id": "LJfqv_xg_wML"
      },
      "source": [
        "**Preparing the NLP Environment for Predictions**\n",
        "\n",
        "Run the code block below to set up the environment necessary for processing and predicting entity relationships."
      ]
    },
    {
      "cell_type": "code",
      "execution_count": null,
      "metadata": {
        "id": "KNeZE6QalaAf"
      },
      "outputs": [],
      "source": [
        "from joblib import load\n",
        "import re\n",
        "import pandas as pd\n",
        "import numpy as np\n",
        "import spacy\n",
        "from spacy.tokenizer import Tokenizer\n",
        "from gensim.models import KeyedVectors\n",
        "\n",
        "nlp = spacy.load('en_core_web_sm')\n",
        "\n",
        "# load saved word embeddings\n",
        "wv = KeyedVectors.load('BioRed-vectors.kv')\n",
        "\n",
        "# load saved svm model and tf-idf vectorizer\n",
        "loaded_model = load('svm_model.pkl')\n",
        "loaded_tfidf_vectorizer = load(\"tfidf_vectorizer.joblib\")\n",
        "\n",
        "def tokenize_text(text):\n",
        "    return nltk.word_tokenize(text)\n",
        "\n",
        "def sentence_vec(words):\n",
        "  '''\n",
        "  function that takes a word or a sequence of words as input and outputs the sentence's vector representation\n",
        "  by taking average of all word vectors present in the sentence\n",
        "  '''\n",
        "  sent_vec = np.zeros(300)\n",
        "  num_words = 0\n",
        "  for word in words:\n",
        "    if word in wv:\n",
        "      sent_vec += wv[word]\n",
        "      num_words += 1\n",
        "  sent_vec = sent_vec / num_words\n",
        "  return sent_vec\n",
        "\n",
        "# function that finds e1 and e2 and returns their POS tags\n",
        "def find_e1_e2_pos_tag(row):\n",
        "  '''\n",
        "  Function that finds out the POS tag of e1 and e2.\n",
        "  Returns a tuple containing POS tag IDs of e1 and e2\n",
        "  '''\n",
        "  sentence = row['sentence']\n",
        "  e1 = row['e1'].split()[0]\n",
        "  e2 = row['e2'].split()[0]\n",
        "  doc = nlp(sentence)\n",
        "  e1_pos, e2_pos = 8, 8\n",
        "  for token in doc:\n",
        "    if token.text == e1:\n",
        "      e1_pos = token.pos\n",
        "    elif token.text == e2:\n",
        "      e2_pos = token.pos\n",
        "  return e1_pos, e2_pos\n",
        "\n",
        "# function to make predictions\n",
        "def predict_with_loaded_model(data):\n",
        "  prediction_df = pd.DataFrame(data, columns=['sentence', 'e1', 'e2', 'entity1_type','entity2_type'])\n",
        "  prediction_df['sentence_vector'] = prediction_df['sentence'].apply(sentence_vec)\n",
        "  prediction_df['e1_vec'] = prediction_df['e1'].apply(sentence_vec)\n",
        "  prediction_df['e2_vec'] = prediction_df['e2'].apply(sentence_vec)\n",
        "  prediction_df['e1_e2_pos_tags'] = prediction_df.apply(find_e1_e2_pos_tag, axis=1)\n",
        "  tfidf_features_for_prediction = loaded_tfidf_vectorizer.transform(prediction_df['sentence'].to_list()).toarray()\n",
        "  encoded_cats = pd.get_dummies(prediction_df[['entity1_type', 'entity2_type']])\n",
        "\n",
        "  X = [\n",
        "    np.concatenate((\n",
        "        row['sentence_vector'],\n",
        "        row['e1_vec'],\n",
        "        row['e2_vec'],\n",
        "        row[\"e1_e2_pos_tags\"],\n",
        "        tfidf_features_test[idx],  # Assuming tfidf_features is a DataFrame\n",
        "        encoded_cats_test.iloc[idx].values,  # Include the one-hot encoded categorical features\n",
        "    )) for idx, row in prediction_df.iterrows()\n",
        "  ]\n",
        "  predictions = loaded_model.predict(X)\n",
        "  # Each prediction is an id correspoding to the respective relation\n",
        "  # Hence, we convert each id to its corresponding relation text\n",
        "\n",
        "  id_2_relation = {\n",
        "      0: 'Association',\n",
        "      1: 'Bind',\n",
        "      2: 'Comparison',\n",
        "      3: 'Conversion',\n",
        "      4: 'Cotreatment',\n",
        "      5: 'Drug_Interaction',\n",
        "      6: 'Negative_Correlation',\n",
        "      7: 'Positive_Correlation'\n",
        "  }\n",
        "  predicted_relations = [id_2_relation[pred] for pred in predictions]\n",
        "  print(predicted_relations)\n"
      ]
    },
    {
      "cell_type": "code",
      "execution_count": null,
      "metadata": {
        "colab": {
          "base_uri": "https://localhost:8080/"
        },
        "id": "g_PqKlbnoVuD",
        "outputId": "32757737-95a2-4c99-fbe4-7f53555c5b52"
      },
      "outputs": [
        {
          "name": "stdout",
          "output_type": "stream",
          "text": [
            "['Association']\n"
          ]
        }
      ],
      "source": [
        "#If you want to give the custom input please follow below format to get the Output without any errors.\n",
        "#replace below sentence, e1 is entity1, e2 is entity2, entity1_type and entity2_type is type of entity\n",
        "inputs =[ {\n",
        "        \"sentence\": \"Deoxyguanosine kinase (dGK) deficiency is a frequent cause of mitochondrial DNA depletion associated with a hepatocerebral phenotype. In this study, we describe a new splice site mutation in the DGUOK gene and the clinical, radiologic, and genetic features of these DGUOK patients. This new DGUOK homozygous mutation (c.444-62C>A) was identified in three patients from two North-African consanguineous families with combined respiratory chain deficiencies and mitochondrial DNA depletion in the liver. Brain MRIs are normal in DGUOK patients in the literature. Interestingly, we found subtentorial abnormal myelination and moderate hyperintensity in the bilateral pallidi in our patients. This new mutation creates a cryptic splice site in intron 3 (in position -62) and is predicted to result in a larger protein with an in-frame insertion of 20 amino acids. In silico analysis of the putative impact of the insertion shows serious clashes in protein conformation: this insertion disrupts the alpha5 helix of the dGK kinase domain, rendering the protein unable to bind purine deoxyribonucleosides. In addition, a common haplotype that segregated with the disease in both families was detected by haplotype reconstruction with 10 markers (microsatellites and SNPs), which span 4.6 Mb of DNA covering the DGUOK locus. In conclusion, we report a new DGUOK splice site mutation that provide insight into a critical protein domain (dGK kinase domain) and the first founder mutation in a North-African population. \",\n",
        "        \"e1\": \"DGUOK\",\n",
        "        \"entity1_type\": \"GeneOrGeneProduct\",\n",
        "        \"e2\": \"Deoxyguanosine kinase (dGK) deficiency\",\n",
        "        \"entity2_type\": \"DiseaseOrPhenotypicFeature\",\n",
        "    }]\n",
        "predict_with_loaded_model(inputs)"
      ]
    }
  ],
  "metadata": {
    "colab": {
      "provenance": []
    },
    "kernelspec": {
      "display_name": "Python 3 (ipykernel)",
      "language": "python",
      "name": "python3"
    },
    "language_info": {
      "codemirror_mode": {
        "name": "ipython",
        "version": 3
      },
      "file_extension": ".py",
      "mimetype": "text/x-python",
      "name": "python",
      "nbconvert_exporter": "python",
      "pygments_lexer": "ipython3",
      "version": "3.10.9"
    }
  },
  "nbformat": 4,
  "nbformat_minor": 0
}
